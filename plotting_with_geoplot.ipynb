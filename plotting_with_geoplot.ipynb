{
 "cells": [
  {
   "cell_type": "markdown",
   "metadata": {},
   "source": [
    "\n",
    "# Plotting with Geoplot and GeoPandas\n",
    "\n",
    "[Geoplot](https://residentmario.github.io/geoplot/index.html) is a Python\n",
    "library providing a selection of easy-to-use geospatial visualizations. It is\n",
    "built on top of the lower-level [CartoPy](http://scitools.org.uk/cartopy/),\n",
    "covered in a separate section of this tutorial, and is designed to work with\n",
    "GeoPandas input.\n",
    "\n",
    "This example is a brief tour of the `geoplot` API. For more details on the\n",
    "library refer to [its documentation](https://residentmario.github.io/geoplot/index.html).\n",
    "\n",
    "First we'll load in the data using GeoPandas.\n",
    "\n",
    "But first first, can you add a cell block below to use pip to install the `geoplot` package?\n"
   ]
  },
  {
   "cell_type": "code",
   "execution_count": 1,
   "metadata": {
    "tags": []
   },
   "outputs": [
    {
     "name": "stdout",
     "output_type": "stream",
     "text": [
      "Requirement already satisfied: geoplot in c:\\users\\gshanleybarr\\.conda\\envs\\a\\lib\\site-packages (0.5.1)\n",
      "Requirement already satisfied: matplotlib>=3.1.2 in c:\\users\\gshanleybarr\\.conda\\envs\\a\\lib\\site-packages (from geoplot) (3.8.0)\n",
      "Requirement already satisfied: seaborn in c:\\users\\gshanleybarr\\.conda\\envs\\a\\lib\\site-packages (from geoplot) (0.13.0)\n",
      "Requirement already satisfied: pandas in c:\\users\\gshanleybarr\\.conda\\envs\\a\\lib\\site-packages (from geoplot) (2.1.1)\n",
      "Requirement already satisfied: geopandas>=0.9.0 in c:\\users\\gshanleybarr\\.conda\\envs\\a\\lib\\site-packages (from geoplot) (0.14.0)\n",
      "Requirement already satisfied: cartopy in c:\\users\\gshanleybarr\\.conda\\envs\\a\\lib\\site-packages (from geoplot) (0.22.0)\n",
      "Requirement already satisfied: mapclassify>=2.1 in c:\\users\\gshanleybarr\\.conda\\envs\\a\\lib\\site-packages (from geoplot) (2.6.1)\n",
      "Requirement already satisfied: contextily>=1.0.0 in c:\\users\\gshanleybarr\\.conda\\envs\\a\\lib\\site-packages (from geoplot) (1.4.0)\n",
      "Requirement already satisfied: geopy in c:\\users\\gshanleybarr\\.conda\\envs\\a\\lib\\site-packages (from contextily>=1.0.0->geoplot) (2.4.0)\n",
      "Requirement already satisfied: mercantile in c:\\users\\gshanleybarr\\.conda\\envs\\a\\lib\\site-packages (from contextily>=1.0.0->geoplot) (1.2.1)\n",
      "Requirement already satisfied: pillow in c:\\users\\gshanleybarr\\.conda\\envs\\a\\lib\\site-packages (from contextily>=1.0.0->geoplot) (10.1.0)\n",
      "Requirement already satisfied: rasterio in c:\\users\\gshanleybarr\\.conda\\envs\\a\\lib\\site-packages (from contextily>=1.0.0->geoplot) (1.3.9)\n",
      "Requirement already satisfied: requests in c:\\users\\gshanleybarr\\.conda\\envs\\a\\lib\\site-packages (from contextily>=1.0.0->geoplot) (2.31.0)\n",
      "Requirement already satisfied: joblib in c:\\users\\gshanleybarr\\.conda\\envs\\a\\lib\\site-packages (from contextily>=1.0.0->geoplot) (1.3.2)\n",
      "Requirement already satisfied: xyzservices in c:\\users\\gshanleybarr\\.conda\\envs\\a\\lib\\site-packages (from contextily>=1.0.0->geoplot) (2023.10.0)\n",
      "Requirement already satisfied: fiona>=1.8.21 in c:\\users\\gshanleybarr\\.conda\\envs\\a\\lib\\site-packages (from geopandas>=0.9.0->geoplot) (1.9.5)\n",
      "Requirement already satisfied: packaging in c:\\users\\gshanleybarr\\.conda\\envs\\a\\lib\\site-packages (from geopandas>=0.9.0->geoplot) (23.1)\n",
      "Requirement already satisfied: pyproj>=3.3.0 in c:\\users\\gshanleybarr\\.conda\\envs\\a\\lib\\site-packages (from geopandas>=0.9.0->geoplot) (3.6.1)\n",
      "Requirement already satisfied: shapely>=1.8.0 in c:\\users\\gshanleybarr\\.conda\\envs\\a\\lib\\site-packages (from geopandas>=0.9.0->geoplot) (2.0.2)\n",
      "Requirement already satisfied: networkx>=2.7 in c:\\users\\gshanleybarr\\.conda\\envs\\a\\lib\\site-packages (from mapclassify>=2.1->geoplot) (3.2)\n",
      "Requirement already satisfied: numpy>=1.23 in c:\\users\\gshanleybarr\\.conda\\envs\\a\\lib\\site-packages (from mapclassify>=2.1->geoplot) (1.26.1)\n",
      "Requirement already satisfied: scikit-learn>=1.0 in c:\\users\\gshanleybarr\\.conda\\envs\\a\\lib\\site-packages (from mapclassify>=2.1->geoplot) (1.3.1)\n",
      "Requirement already satisfied: scipy>=1.8 in c:\\users\\gshanleybarr\\.conda\\envs\\a\\lib\\site-packages (from mapclassify>=2.1->geoplot) (1.11.3)\n",
      "Requirement already satisfied: contourpy>=1.0.1 in c:\\users\\gshanleybarr\\.conda\\envs\\a\\lib\\site-packages (from matplotlib>=3.1.2->geoplot) (1.1.1)\n",
      "Requirement already satisfied: cycler>=0.10 in c:\\users\\gshanleybarr\\.conda\\envs\\a\\lib\\site-packages (from matplotlib>=3.1.2->geoplot) (0.12.1)\n",
      "Requirement already satisfied: fonttools>=4.22.0 in c:\\users\\gshanleybarr\\.conda\\envs\\a\\lib\\site-packages (from matplotlib>=3.1.2->geoplot) (4.43.1)\n",
      "Requirement already satisfied: kiwisolver>=1.0.1 in c:\\users\\gshanleybarr\\.conda\\envs\\a\\lib\\site-packages (from matplotlib>=3.1.2->geoplot) (1.4.5)\n",
      "Requirement already satisfied: pyparsing>=2.3.1 in c:\\users\\gshanleybarr\\.conda\\envs\\a\\lib\\site-packages (from matplotlib>=3.1.2->geoplot) (3.1.1)\n",
      "Requirement already satisfied: python-dateutil>=2.7 in c:\\users\\gshanleybarr\\.conda\\envs\\a\\lib\\site-packages (from matplotlib>=3.1.2->geoplot) (2.8.2)\n",
      "Requirement already satisfied: importlib-resources>=3.2.0 in c:\\users\\gshanleybarr\\.conda\\envs\\a\\lib\\site-packages (from matplotlib>=3.1.2->geoplot) (6.1.0)\n",
      "Requirement already satisfied: pytz>=2020.1 in c:\\users\\gshanleybarr\\.conda\\envs\\a\\lib\\site-packages (from pandas->geoplot) (2023.3.post1)\n",
      "Requirement already satisfied: tzdata>=2022.1 in c:\\users\\gshanleybarr\\.conda\\envs\\a\\lib\\site-packages (from pandas->geoplot) (2023.3)\n",
      "Requirement already satisfied: pyshp>=2.1 in c:\\users\\gshanleybarr\\.conda\\envs\\a\\lib\\site-packages (from cartopy->geoplot) (2.3.1)\n",
      "Requirement already satisfied: attrs>=19.2.0 in c:\\users\\gshanleybarr\\.conda\\envs\\a\\lib\\site-packages (from fiona>=1.8.21->geopandas>=0.9.0->geoplot) (23.1.0)\n",
      "Requirement already satisfied: certifi in c:\\users\\gshanleybarr\\.conda\\envs\\a\\lib\\site-packages (from fiona>=1.8.21->geopandas>=0.9.0->geoplot) (2023.7.22)\n",
      "Requirement already satisfied: click~=8.0 in c:\\users\\gshanleybarr\\.conda\\envs\\a\\lib\\site-packages (from fiona>=1.8.21->geopandas>=0.9.0->geoplot) (8.1.7)\n",
      "Requirement already satisfied: click-plugins>=1.0 in c:\\users\\gshanleybarr\\.conda\\envs\\a\\lib\\site-packages (from fiona>=1.8.21->geopandas>=0.9.0->geoplot) (1.1.1)\n",
      "Requirement already satisfied: cligj>=0.5 in c:\\users\\gshanleybarr\\.conda\\envs\\a\\lib\\site-packages (from fiona>=1.8.21->geopandas>=0.9.0->geoplot) (0.7.2)\n",
      "Requirement already satisfied: six in c:\\users\\gshanleybarr\\.conda\\envs\\a\\lib\\site-packages (from fiona>=1.8.21->geopandas>=0.9.0->geoplot) (1.16.0)\n",
      "Requirement already satisfied: setuptools in c:\\users\\gshanleybarr\\.conda\\envs\\a\\lib\\site-packages (from fiona>=1.8.21->geopandas>=0.9.0->geoplot) (68.0.0)\n",
      "Requirement already satisfied: importlib-metadata in c:\\users\\gshanleybarr\\.conda\\envs\\a\\lib\\site-packages (from fiona>=1.8.21->geopandas>=0.9.0->geoplot) (6.0.0)\n",
      "Requirement already satisfied: zipp>=3.1.0 in c:\\users\\gshanleybarr\\.conda\\envs\\a\\lib\\site-packages (from importlib-resources>=3.2.0->matplotlib>=3.1.2->geoplot) (3.11.0)\n",
      "Requirement already satisfied: threadpoolctl>=2.0.0 in c:\\users\\gshanleybarr\\.conda\\envs\\a\\lib\\site-packages (from scikit-learn>=1.0->mapclassify>=2.1->geoplot) (3.2.0)\n",
      "Requirement already satisfied: geographiclib<3,>=1.52 in c:\\users\\gshanleybarr\\.conda\\envs\\a\\lib\\site-packages (from geopy->contextily>=1.0.0->geoplot) (2.0)\n",
      "Requirement already satisfied: affine in c:\\users\\gshanleybarr\\.conda\\envs\\a\\lib\\site-packages (from rasterio->contextily>=1.0.0->geoplot) (2.4.0)\n",
      "Requirement already satisfied: snuggs>=1.4.1 in c:\\users\\gshanleybarr\\.conda\\envs\\a\\lib\\site-packages (from rasterio->contextily>=1.0.0->geoplot) (1.4.7)\n",
      "Requirement already satisfied: charset-normalizer<4,>=2 in c:\\users\\gshanleybarr\\.conda\\envs\\a\\lib\\site-packages (from requests->contextily>=1.0.0->geoplot) (2.0.4)\n",
      "Requirement already satisfied: idna<4,>=2.5 in c:\\users\\gshanleybarr\\.conda\\envs\\a\\lib\\site-packages (from requests->contextily>=1.0.0->geoplot) (3.4)\n",
      "Requirement already satisfied: urllib3<3,>=1.21.1 in c:\\users\\gshanleybarr\\.conda\\envs\\a\\lib\\site-packages (from requests->contextily>=1.0.0->geoplot) (1.26.16)\n",
      "Requirement already satisfied: colorama in c:\\users\\gshanleybarr\\.conda\\envs\\a\\lib\\site-packages (from click~=8.0->fiona>=1.8.21->geopandas>=0.9.0->geoplot) (0.4.6)\n"
     ]
    }
   ],
   "source": [
    "!pip install geoplot"
   ]
  },
  {
   "cell_type": "code",
   "execution_count": 2,
   "metadata": {
    "tags": []
   },
   "outputs": [],
   "source": [
    "import geopandas\n",
    "import geodatasets\n",
    "import geoplot\n",
    "\n",
    "world = geopandas.read_file(\"https://naciscdn.org/naturalearth/110m/cultural/ne_110m_admin_0_countries.zip\")\n",
    "boroughs = geopandas.read_file(geoplot.datasets.get_path(\"nyc_boroughs\"))\n",
    "collisions = geopandas.read_file(geoplot.datasets.get_path(\"nyc_injurious_collisions\"))"
   ]
  },
  {
   "cell_type": "markdown",
   "metadata": {},
   "source": [
    "Plotting with Geoplot\n",
    "=====================\n",
    "\n",
    "We start out by replicating the basic GeoPandas world plot using Geoplot.\n",
    "\n"
   ]
  },
  {
   "cell_type": "code",
   "execution_count": null,
   "metadata": {
    "tags": []
   },
   "outputs": [],
   "source": [
    "world"
   ]
  },
  {
   "cell_type": "code",
   "execution_count": null,
   "metadata": {
    "tags": []
   },
   "outputs": [],
   "source": [
    "geoplot.polyplot(world, figsize=(8, 4))"
   ]
  },
  {
   "cell_type": "markdown",
   "metadata": {},
   "source": [
    "Geoplot can re-project data into any of the map projections provided by\n",
    "CartoPy (see the list\n",
    "[here](http://scitools.org.uk/cartopy/docs/latest/crs/projections.html)).\n",
    "\n"
   ]
  },
  {
   "cell_type": "code",
   "execution_count": null,
   "metadata": {},
   "outputs": [],
   "source": [
    "# use the Orthographic map projection (e.g. a world globe)\n",
    "ax = geoplot.polyplot(world, projection=geoplot.crs.Orthographic(), figsize=(8, 4))\n",
    "ax.outline_patch.set_visible(True)"
   ]
  },
  {
   "cell_type": "markdown",
   "metadata": {},
   "source": [
    "``polyplot`` is trivial and can only plot the geometries you pass to it. If\n",
    "you want to use color as a visual variable, specify a ``choropleth``. Here\n",
    "we sort GDP per person by country into five buckets by color, using\n",
    "\"quantiles\" binning from the [Mapclassify](https://pysal.org/mapclassify/)\n",
    "library.\n",
    "\n"
   ]
  },
  {
   "cell_type": "code",
   "execution_count": null,
   "metadata": {},
   "outputs": [],
   "source": [
    "import mapclassify\n",
    "\n",
    "gpd_per_person = world[\"gdp_md_est\"] / world[\"pop_est\"]\n",
    "scheme = mapclassify.Quantiles(gpd_per_person, k=5)\n",
    "\n",
    "# Note: this code sample requires geoplot>=0.4.0.\n",
    "geoplot.choropleth(\n",
    "    world, hue=gpd_per_person, scheme=scheme, cmap=\"Greens\", figsize=(8, 4)\n",
    ")"
   ]
  },
  {
   "cell_type": "markdown",
   "metadata": {},
   "source": [
    "If you want to use size as a visual variable, use a ``cartogram``. Here are\n",
    "population estimates for countries in Africa.\n",
    "\n"
   ]
  },
  {
   "cell_type": "code",
   "execution_count": null,
   "metadata": {},
   "outputs": [],
   "source": [
    "africa = world.query('continent == \"Africa\"')\n",
    "ax = geoplot.cartogram(\n",
    "    africa, scale=\"pop_est\", limits=(0.2, 1), edgecolor=\"None\", figsize=(7, 8)\n",
    ")\n",
    "geoplot.polyplot(africa, edgecolor=\"gray\", ax=ax)"
   ]
  },
  {
   "cell_type": "markdown",
   "metadata": {},
   "source": [
    "If we have data in the shape of points in space, we may generate a\n",
    "three-dimensional heatmap on it using ``kdeplot``.\n",
    "\n"
   ]
  },
  {
   "cell_type": "code",
   "execution_count": null,
   "metadata": {
    "tags": [
     "nbsphinx-thumbnail"
    ]
   },
   "outputs": [],
   "source": [
    "ax = geoplot.kdeplot(\n",
    "    collisions.head(1000),\n",
    "    clip=boroughs.geometry,\n",
    "    shade=True,\n",
    "    cmap=\"Reds\",\n",
    "    projection=geoplot.crs.AlbersEqualArea(),\n",
    ")\n",
    "geoplot.polyplot(boroughs, ax=ax, zorder=1)"
   ]
  },
  {
   "cell_type": "markdown",
   "metadata": {},
   "source": [
    "These are just some of the plots you can make with Geoplot. There are\n",
    "many other possibilities not covered in this brief introduction. For more\n",
    "examples, refer to the\n",
    "[Gallery](https://residentmario.github.io/geoplot/gallery/index.html) in\n",
    "the Geoplot documentation.\n",
    "\n"
   ]
  }
 ],
 "metadata": {
  "kernelspec": {
   "display_name": "Python 3 (ipykernel)",
   "language": "python",
   "name": "python3"
  },
  "language_info": {
   "codemirror_mode": {
    "name": "ipython",
    "version": 3
   },
   "file_extension": ".py",
   "mimetype": "text/x-python",
   "name": "python",
   "nbconvert_exporter": "python",
   "pygments_lexer": "ipython3",
   "version": "3.9.18"
  }
 },
 "nbformat": 4,
 "nbformat_minor": 4
}
