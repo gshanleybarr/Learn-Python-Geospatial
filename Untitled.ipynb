{
 "cells": [
  {
   "cell_type": "code",
   "execution_count": 1,
   "id": "b8bd4ed7-ef6e-440f-875c-fb69f217900f",
   "metadata": {
    "tags": []
   },
   "outputs": [
    {
     "name": "stdout",
     "output_type": "stream",
     "text": [
      "5\n"
     ]
    },
    {
     "data": {
      "text/plain": [
       "10"
      ]
     },
     "execution_count": 1,
     "metadata": {},
     "output_type": "execute_result"
    }
   ],
   "source": [
    "# Introduction to Python Programming Code from Becky Vandewalle and Dandong Yin\n",
    "# Available at https://cybergisxhub.cigi.illinois.edu/notebooks/\n",
    "\n",
    "3 + 4\n",
    "\n",
    "2 * 4\n",
    "\n",
    "2 ** 4\n",
    "\n",
    "10 / 3\n",
    "\n",
    "10.0 / 3\n",
    "\n",
    "10 % 3\n",
    "\n",
    "250 / (5 + 5) * (7 - 3)\n",
    "\n",
    "2 + 3\n",
    "4 + 6\n",
    "\n",
    "print(2 + 3)\n",
    "4 + 6"
   ]
  },
  {
   "cell_type": "code",
   "execution_count": 2,
   "id": "586b8506-380f-496f-8bd9-b36730608534",
   "metadata": {
    "tags": []
   },
   "outputs": [
    {
     "name": "stdout",
     "output_type": "stream",
     "text": [
      "1\n",
      "1\n",
      "1.0\n"
     ]
    }
   ],
   "source": [
    "import math\n",
    "math.sqrt(16)\n",
    "\n",
    "# this is a comment\n",
    "4 + 2 # this is another comment\n",
    "\n",
    "a = 1\n",
    "b = 4\n",
    "print(a)\n",
    "b\n",
    "\n",
    "One = 1\n",
    "one = 1.0\n",
    "print(One) # these are different\n",
    "print(one) # let's use lower case variable names, consistent with PostGreSQL\n"
   ]
  },
  {
   "cell_type": "code",
   "execution_count": 3,
   "id": "75356271-edb1-443d-96f5-9afbf7d82897",
   "metadata": {
    "tags": []
   },
   "outputs": [
    {
     "name": "stdout",
     "output_type": "stream",
     "text": [
      "a exists\n",
      "b exists\n",
      "a and b exist\n",
      "<class 'int'>\n",
      "<class 'float'>\n",
      "False\n",
      "False\n",
      "True\n",
      "a\n"
     ]
    }
   ],
   "source": [
    "# indentation matters! use tabs to indent. Spaces are messy.\n",
    "# code blocks for conditionals, loops, or functions are indented\n",
    "a = 2\n",
    "if a:\n",
    "    print('a exists')\n",
    "b = 3\n",
    "if b:\n",
    "    print('b exists')\n",
    "if a:\n",
    "    if b:\n",
    "        print('a and b exist')\n",
    "\n",
    "print(type(1))\n",
    "print(type(1.0))\n",
    "type('hello')\n",
    "\n",
    "a = True\n",
    "b = False\n",
    "print(a is False)\n",
    "print(b is True)\n",
    "print(b is False)\n",
    "\n",
    "a = 3\n",
    "if a:\n",
    "    print('a')\n",
    "\n",
    "b = 0\n",
    "if b:\n",
    "    print ('b')\n"
   ]
  },
  {
   "cell_type": "code",
   "execution_count": 4,
   "id": "e8bfa3b5-2314-400d-ad2d-250a1faf91ab",
   "metadata": {
    "tags": []
   },
   "outputs": [
    {
     "name": "stdout",
     "output_type": "stream",
     "text": [
      "hi\n",
      "hi2\n",
      "3\n",
      "1\n",
      "[1, 2, 3, 4]\n",
      "3\n"
     ]
    }
   ],
   "source": [
    "# a new line \\n is a common escape character\n",
    "new_line_str = 'hi\\nhi2'\n",
    "print (new_line_str)\n",
    "\n",
    "# lists are created using square brackets\n",
    "mylist = [1, 2, 3]\n",
    "mylist\n",
    "\n",
    "mylist.append(4)\n",
    "mylist\n",
    "\n",
    "# tuples are created using parentheses\n",
    "mytuple = (1, 2, 3)\n",
    "mytuple\n",
    "\n",
    "newtuple = (mytuple, 4)\n",
    "newtuple\n",
    "\n",
    "print (mylist[2])\n",
    "print (mytuple[0])\n",
    "\n",
    "print (mylist[:])\n",
    "\n",
    "print (mytuple[-1])\n"
   ]
  },
  {
   "cell_type": "code",
   "execution_count": 5,
   "id": "90f8ccf0-847a-4ba6-be66-9d8dbfbdb3a9",
   "metadata": {
    "tags": []
   },
   "outputs": [
    {
     "data": {
      "text/plain": [
       "{'becky': 'cat', 'chaoli': 'parrot', 'dan': 'dog', 'ewan': 'bunny'}"
      ]
     },
     "execution_count": 5,
     "metadata": {},
     "output_type": "execute_result"
    }
   ],
   "source": [
    "# multi-level index\n",
    "nested_list = [[1, 2], [3, 4]]\n",
    "nested_list[0][1] # select first list, then second item\n",
    "\n",
    "# dictionaries are created using curly braces\n",
    "pet_list = {'alice':'cat', 'becky':'cat', 'chaoli': 'parrot', 'dan':'dog'}\n",
    "pet_list\n",
    "\n",
    "pet_list.keys()\n",
    "\n",
    "pet_list.values()\n",
    "\n",
    "pet_list['dan']\n",
    "\n",
    "pet_list['ewan'] = 'bunny'\n",
    "pet_list\n",
    "\n",
    "if 'alice' in pet_list.keys():\n",
    "    del pet_list['alice']\n",
    "pet_list\n"
   ]
  },
  {
   "cell_type": "code",
   "execution_count": 6,
   "id": "4b40a90b-e7d1-4c16-bb71-466bf242db5b",
   "metadata": {
    "tags": []
   },
   "outputs": [
    {
     "name": "stdout",
     "output_type": "stream",
     "text": [
      "OK\n"
     ]
    },
    {
     "name": "stderr",
     "output_type": "stream",
     "text": [
      "<>:43: SyntaxWarning: \"is\" with a literal. Did you mean \"==\"?\n",
      "<>:45: SyntaxWarning: \"is not\" with a literal. Did you mean \"!=\"?\n",
      "<>:43: SyntaxWarning: \"is\" with a literal. Did you mean \"==\"?\n",
      "<>:45: SyntaxWarning: \"is not\" with a literal. Did you mean \"!=\"?\n",
      "C:\\Users\\gshanleybarr\\AppData\\Local\\Temp\\ipykernel_12516\\3065151933.py:43: SyntaxWarning: \"is\" with a literal. Did you mean \"==\"?\n",
      "  1 is 2\n",
      "C:\\Users\\gshanleybarr\\AppData\\Local\\Temp\\ipykernel_12516\\3065151933.py:45: SyntaxWarning: \"is not\" with a literal. Did you mean \"!=\"?\n",
      "  1 is not 2\n"
     ]
    },
    {
     "data": {
      "text/plain": [
       "False"
      ]
     },
     "execution_count": 6,
     "metadata": {},
     "output_type": "execute_result"
    }
   ],
   "source": [
    "# nested dictionaries\n",
    "pet_list_ext = {'alice': {'type':'cat', 'age':3},\n",
    "            'becky': {'type':'cat', 'age':9},\n",
    "            'chaoli': {'type':'parrot', 'age':23},\n",
    "            'dan': {'type':'dog', 'age':7.5}}\n",
    "pet_list\n",
    "\n",
    "pet_list_ext['chaoli']['type']\n",
    "\n",
    "\n",
    "True and True\n",
    "\n",
    "True and False\n",
    "\n",
    "False and False\n",
    "\n",
    "True or True\n",
    "\n",
    "True or False\n",
    "\n",
    "not True\n",
    "\n",
    "not False\n",
    "\n",
    "if (1 and 'hi'):\n",
    "    print('OK')\n",
    "\n",
    "if (0 and 'hi'):\n",
    "    print('OK')\n",
    "\n",
    "1 > 2\n",
    "\n",
    "1 < 2\n",
    "\n",
    "1 >= 2\n",
    "\n",
    "1 <= 2\n",
    "\n",
    "1 == 1\n",
    "\n",
    "1 != 2\n",
    "\n",
    "1 is 2\n",
    "\n",
    "1 is not 2\n",
    "\n",
    "1 in (1, 2, 3)\n",
    "\n",
    "1 not in (1, 2, 3)\n"
   ]
  },
  {
   "cell_type": "code",
   "execution_count": 7,
   "id": "30f1bc8f-fc8f-44bb-a772-593fc8649fcb",
   "metadata": {
    "tags": []
   },
   "outputs": [
    {
     "name": "stdout",
     "output_type": "stream",
     "text": [
      "1697739041.4643085\n",
      "a = 3\n",
      "1 2 3 0 1 2 3 4 0 1 2 3 4 5 6 0 1 2 3 4 5 6 7 8 9 - no break\n",
      "0 1 2 3 4 5 6 7 8 9 that didn't work\n",
      "end\n",
      "end\n"
     ]
    }
   ],
   "source": [
    "import time                        # import entire library\n",
    "import numpy as np                 # call numpy using np\n",
    "from math import sqrt              # just import square root function from math library\n",
    "from math import factorial as fac  # just import factorial function from math library, call it fac\n",
    "\n",
    "print(time.time())\n",
    "\n",
    "np.array([2,3,4])\n",
    "\n",
    "sqrt(16)\n",
    "\n",
    "fac(5)\n",
    "\n",
    "a = 3\n",
    "if a:\n",
    "    print ('a =', a)\n",
    "\n",
    "mylist = [1, 2, 3]\n",
    "for i in mylist:\n",
    "    print (i, end=\" \")\n",
    "\n",
    "range(5)\n",
    "\n",
    "for i in range(5):\n",
    "    print (i, end=\" \")\n",
    "\n",
    "\n",
    "for i in range(10):\n",
    "    if i == 7:\n",
    "        break\n",
    "    print (i, end=\" \")\n",
    "\n",
    "\n",
    "for i in range(10):\n",
    "    if i == 12:\n",
    "        break\n",
    "    print (i, end=\" \")\n",
    "else:\n",
    "    print ('- no break')\n",
    "\n",
    "\n",
    "a = 0\n",
    "while a < 10:\n",
    "    print (a, end=\" \")\n",
    "    a += 1\n",
    "\n",
    "\n",
    "try:\n",
    "    1 / 0\n",
    "except ZeroDivisionError:\n",
    "    print(\"that didn't work\")\n",
    "finally:\n",
    "    print('end')\n",
    "\n",
    "\n",
    "try:\n",
    "    1 / 1\n",
    "except ZeroDivisionError:\n",
    "    print (\"that didn't work\")\n",
    "finally:\n",
    "    print ('end')\n",
    "\n"
   ]
  },
  {
   "cell_type": "code",
   "execution_count": null,
   "id": "e2170465-1f61-4a17-b26e-641ded381aea",
   "metadata": {},
   "outputs": [],
   "source": []
  },
  {
   "cell_type": "code",
   "execution_count": null,
   "id": "e9970492-aa45-40eb-976c-fce723adc52f",
   "metadata": {},
   "outputs": [],
   "source": []
  },
  {
   "cell_type": "code",
   "execution_count": null,
   "id": "4f33036b-06f8-44ca-bacf-db770f03b03b",
   "metadata": {},
   "outputs": [],
   "source": []
  },
  {
   "cell_type": "code",
   "execution_count": null,
   "id": "7968be09-512b-41d3-9ea5-89a41189b658",
   "metadata": {},
   "outputs": [],
   "source": []
  }
 ],
 "metadata": {
  "kernelspec": {
   "display_name": "Python 3 (ipykernel)",
   "language": "python",
   "name": "python3"
  },
  "language_info": {
   "codemirror_mode": {
    "name": "ipython",
    "version": 3
   },
   "file_extension": ".py",
   "mimetype": "text/x-python",
   "name": "python",
   "nbconvert_exporter": "python",
   "pygments_lexer": "ipython3",
   "version": "3.11.5"
  }
 },
 "nbformat": 4,
 "nbformat_minor": 5
}
