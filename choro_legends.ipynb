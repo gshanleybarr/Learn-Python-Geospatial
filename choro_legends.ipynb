{
 "cells": [
  {
   "cell_type": "markdown",
   "metadata": {},
   "source": [
    "# Choro legends"
   ]
  },
  {
   "cell_type": "code",
   "execution_count": 1,
   "metadata": {
    "tags": []
   },
   "outputs": [],
   "source": [
    "import geopandas\n",
    "from geopandas import read_file"
   ]
  },
  {
   "cell_type": "code",
   "execution_count": null,
   "metadata": {
    "tags": []
   },
   "outputs": [],
   "source": [
    "import mapclassify\n",
    "\n",
    "mapclassify.__version__"
   ]
  },
  {
   "cell_type": "code",
   "execution_count": null,
   "metadata": {},
   "outputs": [],
   "source": [
    "import libpysal\n",
    "\n",
    "libpysal.__version__"
   ]
  },
  {
   "cell_type": "code",
   "execution_count": null,
   "metadata": {},
   "outputs": [],
   "source": [
    "libpysal.examples.available()"
   ]
  },
  {
   "cell_type": "code",
   "execution_count": null,
   "metadata": {},
   "outputs": [],
   "source": [
    "_ = libpysal.examples.load_example(\"South\")\n",
    "pth = libpysal.examples.get_path(\"south.shp\")"
   ]
  },
  {
   "cell_type": "code",
   "execution_count": null,
   "metadata": {},
   "outputs": [],
   "source": [
    "df = read_file(pth)"
   ]
  },
  {
   "cell_type": "markdown",
   "metadata": {},
   "source": [
    "## Default legend formatting"
   ]
  },
  {
   "cell_type": "code",
   "execution_count": null,
   "metadata": {
    "tags": [
     "nbsphinx-thumbnail"
    ]
   },
   "outputs": [],
   "source": [
    "%matplotlib inline\n",
    "ax = df.plot(\n",
    "    column=\"HR60\",\n",
    "    scheme=\"QUANTILES\",\n",
    "    k=4,\n",
    "    cmap=\"BuPu\",\n",
    "    legend=True,\n",
    "    legend_kwds={\"loc\": \"center left\", \"bbox_to_anchor\": (1, 0.5)},\n",
    ")"
   ]
  },
  {
   "cell_type": "code",
   "execution_count": null,
   "metadata": {},
   "outputs": [],
   "source": [
    "labels = [t.get_text() for t in ax.get_legend().get_texts()]\n",
    "labels"
   ]
  },
  {
   "cell_type": "code",
   "execution_count": null,
   "metadata": {},
   "outputs": [],
   "source": [
    "q4 = mapclassify.Quantiles(df.HR60, k=4)\n",
    "q4"
   ]
  },
  {
   "cell_type": "code",
   "execution_count": null,
   "metadata": {},
   "outputs": [],
   "source": [
    "labels == q4.get_legend_classes()"
   ]
  },
  {
   "cell_type": "markdown",
   "metadata": {},
   "source": [
    "Note that in this case, the first interval is closed on the minimum value in the dataset. The other intervals have an open lower bound. This can be now displayed in the legend using `legend_kwds={'interval': True}`."
   ]
  },
  {
   "cell_type": "markdown",
   "metadata": {},
   "source": [
    "## Overriding numerical format"
   ]
  },
  {
   "cell_type": "code",
   "execution_count": null,
   "metadata": {},
   "outputs": [],
   "source": [
    "ax = df.plot(\n",
    "    column=\"HR60\",\n",
    "    scheme=\"QUANTILES\",\n",
    "    k=4,\n",
    "    cmap=\"BuPu\",\n",
    "    legend=True,\n",
    "    legend_kwds={\"loc\": \"center left\", \"bbox_to_anchor\": (1, 0.5)},\n",
    ")"
   ]
  },
  {
   "cell_type": "code",
   "execution_count": null,
   "metadata": {},
   "outputs": [],
   "source": [
    "ax = df.plot(\n",
    "    column=\"HR60\",\n",
    "    scheme=\"QUANTILES\",\n",
    "    k=4,\n",
    "    cmap=\"BuPu\",\n",
    "    legend=True,\n",
    "    legend_kwds={\"loc\": \"center left\", \"bbox_to_anchor\": (1, 0.5), \"fmt\": \"{:.4f}\"},\n",
    ")"
   ]
  },
  {
   "cell_type": "code",
   "execution_count": null,
   "metadata": {},
   "outputs": [],
   "source": [
    "ax = df.plot(\n",
    "    column=\"HR60\",\n",
    "    scheme=\"QUANTILES\",\n",
    "    k=4,\n",
    "    cmap=\"BuPu\",\n",
    "    legend=True,\n",
    "    legend_kwds={\"loc\": \"center left\", \"bbox_to_anchor\": (1, 0.5), \"fmt\": \"{:.0f}\"},\n",
    ")"
   ]
  },
  {
   "cell_type": "markdown",
   "metadata": {},
   "source": [
    "The new legends_kwds arg `fmt` takes a string to set the numerical formatting."
   ]
  },
  {
   "cell_type": "markdown",
   "metadata": {},
   "source": [
    "## When first class lower bound < y.min()"
   ]
  },
  {
   "cell_type": "code",
   "execution_count": null,
   "metadata": {},
   "outputs": [],
   "source": [
    "ax = df.plot(\n",
    "    column=\"HR60\",\n",
    "    scheme=\"BoxPlot\",\n",
    "    cmap=\"BuPu\",\n",
    "    legend=True,\n",
    "    legend_kwds={\"loc\": \"center left\", \"bbox_to_anchor\": (1, 0.5), \"fmt\": \"{:.0f}\"},\n",
    ")"
   ]
  },
  {
   "cell_type": "code",
   "execution_count": null,
   "metadata": {},
   "outputs": [],
   "source": [
    "bp = mapclassify.BoxPlot(df.HR60)\n",
    "bp"
   ]
  },
  {
   "cell_type": "code",
   "execution_count": null,
   "metadata": {},
   "outputs": [],
   "source": [
    "bp.get_legend_classes(fmt=\"{:.0f}\")"
   ]
  },
  {
   "cell_type": "markdown",
   "metadata": {},
   "source": [
    "In some classifiers the user should be aware that the lower (upper) bound of the first (last) interval is not equal to the minimum (maximum) of the attribute values. This is useful to detect extreme values and highly skewed distributions."
   ]
  },
  {
   "cell_type": "markdown",
   "metadata": {},
   "source": [
    "## Show interval bracket"
   ]
  },
  {
   "cell_type": "code",
   "execution_count": null,
   "metadata": {},
   "outputs": [],
   "source": [
    "ax = df.plot(\n",
    "    column=\"HR60\",\n",
    "    scheme=\"BoxPlot\",\n",
    "    cmap=\"BuPu\",\n",
    "    legend=True,\n",
    "    legend_kwds={\"loc\": \"center left\", \"bbox_to_anchor\": (1, 0.5), \"interval\": True},\n",
    ")"
   ]
  },
  {
   "cell_type": "markdown",
   "metadata": {},
   "source": [
    "## Categorical Data"
   ]
  },
  {
   "cell_type": "code",
   "execution_count": null,
   "metadata": {
    "tags": []
   },
   "outputs": [],
   "source": [
    "ax = df.plot(\n",
    "    column=\"STATE_NAME\",\n",
    "    categorical=True,\n",
    "    legend=True,\n",
    "    legend_kwds={\"loc\": \"center left\", \"bbox_to_anchor\": (1, 0.5), \"fmt\": \"{:.0f}\"},\n",
    ")  # fmt is ignored for categorical data"
   ]
  }
 ],
 "metadata": {
  "kernelspec": {
   "display_name": "Python 3 (ipykernel)",
   "language": "python",
   "name": "python3"
  },
  "language_info": {
   "codemirror_mode": {
    "name": "ipython",
    "version": 3
   },
   "file_extension": ".py",
   "mimetype": "text/x-python",
   "name": "python",
   "nbconvert_exporter": "python",
   "pygments_lexer": "ipython3",
   "version": "3.9.18"
  },
  "nbsphinx": {
   "execute": "never"
  }
 },
 "nbformat": 4,
 "nbformat_minor": 4
}
